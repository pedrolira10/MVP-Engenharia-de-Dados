{
 "cells": [
  {
   "cell_type": "markdown",
   "metadata": {
    "application/vnd.databricks.v1+cell": {
     "cellMetadata": {
      "byteLimit": 2048000,
      "rowLimit": 10000
     },
     "inputWidgets": {},
     "nuid": "46e007d2-2295-45d2-b3dc-3b0ff02f6605",
     "showTitle": false,
     "tableResultSettingsMap": {},
     "title": ""
    }
   },
   "source": [
    "###Objetivo:\n",
    "O problema em questão envolve a análise de dados históricos recentes relacionados aos cadastros de clientes no sistema de pagamentos instantâneos Pix, com o objetivo de identificar padrões, oportunidades e desafios para aumentar a base de usuários cadastrados. A partir dessa análise, é possível desenvolver estratégias eficazes que impulsionem a adoção do Pix, tanto por parte de clientes individuais quanto de empresas, ampliando assim a participação no mercado de pagamentos digitais.\n",
    "\n",
    "\n",
    "Sendo assim desenvolvi questionamentos estratégicos, direcionados ao objetivo e servindo como um guia para desenvolvimento deste projeto MVP. \n",
    "\n",
    "1. Qual tipo de chave é mais utilizado pelos usuários?\n",
    "2. Qual instituição que possui o maior número de chaves pix ativas?\n",
    "3. Como o número total de chaves Pix ativas tem evoluído mês a mês?\n",
    "4. Qual é a proporção de chaves Pix cadastradas por Pessoa Física versus Pessoa Jurídica?\n",
    "\n"
   ]
  },
  {
   "cell_type": "markdown",
   "metadata": {
    "application/vnd.databricks.v1+cell": {
     "cellMetadata": {
      "byteLimit": 2048000,
      "rowLimit": 10000
     },
     "inputWidgets": {},
     "nuid": "f0484468-8b2e-488a-afc2-401bcb1f7fdf",
     "showTitle": false,
     "tableResultSettingsMap": {},
     "title": ""
    }
   },
   "source": [
    "### Coleta:\n",
    "Os dados foram coletados do portal de dados abertos do Banco Central do Brasil, exportados diretamente no formato CSV, contendo 84.681 registros. Os dados brutos foram persistidos no DBFS (Databricks File System) para processamento e análise."
   ]
  },
  {
   "cell_type": "markdown",
   "metadata": {
    "application/vnd.databricks.v1+cell": {
     "cellMetadata": {
      "byteLimit": 2048000,
      "rowLimit": 10000
     },
     "inputWidgets": {},
     "nuid": "0834b5fe-d2de-46a3-ada2-881285d2410d",
     "showTitle": false,
     "tableResultSettingsMap": {},
     "title": ""
    }
   },
   "source": [
    "###Importação dos dados de Estoque de Chaves Pix:\n",
    "O código realiza a leitura de um arquivo CSV armazenado no DBFS, utilizando o PySpark. Durante a importação, assume-se que a primeira linha do arquivo contém os cabeçalhos das colunas. Os dados são então carregados em um DataFrame do Spark, que permite manipulação distribuída dos dados em um ambiente clusterizado. Por fim é exibido as 10 primeiras linhas do DataFrame, garantindo que a carga foi realizada corretamente antes de prosseguir com transformações."
   ]
  },
  {
   "cell_type": "code",
   "execution_count": 0,
   "metadata": {
    "application/vnd.databricks.v1+cell": {
     "cellMetadata": {
      "byteLimit": 2048000,
      "rowLimit": 10000
     },
     "inputWidgets": {},
     "nuid": "9d8c8813-c09f-425c-b3ba-26efcb8b3076",
     "showTitle": false,
     "tableResultSettingsMap": {},
     "title": ""
    }
   },
   "outputs": [
    {
     "output_type": "stream",
     "name": "stdout",
     "output_type": "stream",
     "text": [
      "+----------+--------+--------------------+---------------+---------+---------+\n|      Data|    ISPB|                Nome|NaturezaUsuario|TipoChave|qtdChaves|\n+----------+--------+--------------------+---------------+---------+---------+\n|2024-04-30|05442029|CASA CREDITO S.A....|             PF|  Celular|       46|\n|2024-06-30|07564184| COOP ASCOOB SERTÕES|             PF|  Celular|        6|\n|2024-04-30|30723886|      BCO MODAL S.A.|             PF|  Celular|      381|\n|2025-01-31|33641877|          EQUIS BANK|             PJ|   e-mail|        4|\n|2024-10-31|07097064|COOP SICOOB CONFI...|             PF|Aleatória|     2427|\n|2024-12-31|70431630|COOP SICREDI UNIV...|             PF|Aleatória|    31187|\n|2024-12-31|92934215|    BANRISUL S.A. IP|             PJ|Aleatória|    58545|\n|2025-02-28|08561701|PAGSEGURO INTERNE...|             PJ|   e-mail|   362399|\n|2024-05-31|09639338|CECM PRAIA GRANDE...|             PJ|  Celular|        1|\n|2024-10-31|05428587|COOP CRESOL OLIVE...|             PJ|   e-mail|        1|\n+----------+--------+--------------------+---------------+---------+---------+\nonly showing top 10 rows\n\n"
     ]
    }
   ],
   "source": [
    "dados_brutos_df = spark.read.format(\"csv\").option(\"header\", \"true\").load(\"dbfs:/FileStore/shared_uploads/pedroliradecastro@gmail.com/Estoque_de_Chaves_Pix_por_Participante.csv\")\n",
    "\n",
    "dados_brutos_df.show(10)"
   ]
  },
  {
   "cell_type": "markdown",
   "metadata": {
    "application/vnd.databricks.v1+cell": {
     "cellMetadata": {
      "byteLimit": 2048000,
      "rowLimit": 10000
     },
     "inputWidgets": {},
     "nuid": "dce3b9b9-d8f0-43ed-b310-948c35c3f776",
     "showTitle": false,
     "tableResultSettingsMap": {},
     "title": ""
    }
   },
   "source": [
    "###Apagando o database \"bronze\" para ser recriado: \n",
    "Este comando exclui permanentemente o banco de dados e todos os seus objetos internos. "
   ]
  },
  {
   "cell_type": "code",
   "execution_count": 0,
   "metadata": {
    "application/vnd.databricks.v1+cell": {
     "cellMetadata": {
      "byteLimit": 2048000,
      "implicitDf": true,
      "rowLimit": 10000
     },
     "inputWidgets": {},
     "nuid": "124914c8-a8bd-478f-b399-ba7c3b9a5ca7",
     "showTitle": false,
     "tableResultSettingsMap": {},
     "title": ""
    }
   },
   "outputs": [
    {
     "output_type": "display_data",
     "data": {
      "text/html": [
       "<style scoped>\n",
       "  .table-result-container {\n",
       "    max-height: 300px;\n",
       "    overflow: auto;\n",
       "  }\n",
       "  table, th, td {\n",
       "    border: 1px solid black;\n",
       "    border-collapse: collapse;\n",
       "  }\n",
       "  th, td {\n",
       "    padding: 5px;\n",
       "  }\n",
       "  th {\n",
       "    text-align: left;\n",
       "  }\n",
       "</style><div class='table-result-container'><table class='table-result'><thead style='background-color: white'><tr></tr></thead><tbody></tbody></table></div>"
      ]
     },
     "metadata": {
      "application/vnd.databricks.v1+output": {
       "addedWidgets": {},
       "aggData": [],
       "aggError": "",
       "aggOverflow": false,
       "aggSchema": [],
       "aggSeriesLimitReached": false,
       "aggType": "",
       "arguments": {},
       "columnCustomDisplayInfos": {},
       "data": [],
       "datasetInfos": [],
       "dbfsResultPath": null,
       "isJsonSchema": true,
       "metadata": {},
       "overflow": false,
       "plotOptions": {
        "customPlotOptions": {},
        "displayType": "table",
        "pivotAggregation": null,
        "pivotColumns": null,
        "xColumns": null,
        "yColumns": null
       },
       "removedWidgets": [],
       "schema": [],
       "type": "table"
      }
     },
     "output_type": "display_data"
    }
   ],
   "source": [
    "%sql DROP DATABASE bronze CASCADE"
   ]
  },
  {
   "cell_type": "markdown",
   "metadata": {
    "application/vnd.databricks.v1+cell": {
     "cellMetadata": {
      "byteLimit": 2048000,
      "rowLimit": 10000
     },
     "inputWidgets": {},
     "nuid": "d9335143-c28b-45b2-bb62-4b67d61303ad",
     "showTitle": false,
     "tableResultSettingsMap": {},
     "title": ""
    }
   },
   "source": [
    "###Recriando o database \"bronze\":\n",
    "Este comando cria um novo banco de dados no ambiente Spark SQL (Databricks)."
   ]
  },
  {
   "cell_type": "code",
   "execution_count": 0,
   "metadata": {
    "application/vnd.databricks.v1+cell": {
     "cellMetadata": {
      "byteLimit": 2048000,
      "implicitDf": true,
      "rowLimit": 10000
     },
     "inputWidgets": {},
     "nuid": "7984ca66-6312-4ac7-8e4b-a24903e0dda6",
     "showTitle": false,
     "tableResultSettingsMap": {},
     "title": ""
    }
   },
   "outputs": [
    {
     "output_type": "display_data",
     "data": {
      "text/html": [
       "<style scoped>\n",
       "  .table-result-container {\n",
       "    max-height: 300px;\n",
       "    overflow: auto;\n",
       "  }\n",
       "  table, th, td {\n",
       "    border: 1px solid black;\n",
       "    border-collapse: collapse;\n",
       "  }\n",
       "  th, td {\n",
       "    padding: 5px;\n",
       "  }\n",
       "  th {\n",
       "    text-align: left;\n",
       "  }\n",
       "</style><div class='table-result-container'><table class='table-result'><thead style='background-color: white'><tr></tr></thead><tbody></tbody></table></div>"
      ]
     },
     "metadata": {
      "application/vnd.databricks.v1+output": {
       "addedWidgets": {},
       "aggData": [],
       "aggError": "",
       "aggOverflow": false,
       "aggSchema": [],
       "aggSeriesLimitReached": false,
       "aggType": "",
       "arguments": {},
       "columnCustomDisplayInfos": {},
       "data": [],
       "datasetInfos": [],
       "dbfsResultPath": null,
       "isJsonSchema": true,
       "metadata": {},
       "overflow": false,
       "plotOptions": {
        "customPlotOptions": {},
        "displayType": "table",
        "pivotAggregation": null,
        "pivotColumns": null,
        "xColumns": null,
        "yColumns": null
       },
       "removedWidgets": [],
       "schema": [],
       "type": "table"
      }
     },
     "output_type": "display_data"
    }
   ],
   "source": [
    "%sql CREATE DATABASE bronze"
   ]
  },
  {
   "cell_type": "markdown",
   "metadata": {
    "application/vnd.databricks.v1+cell": {
     "cellMetadata": {
      "byteLimit": 2048000,
      "rowLimit": 10000
     },
     "inputWidgets": {},
     "nuid": "fbfcc774-fbc2-40c6-947d-283995ae9ee6",
     "showTitle": false,
     "tableResultSettingsMap": {},
     "title": ""
    }
   },
   "source": [
    "###Criação da tabela `chaves_pix` a partir do dataframe:\n",
    "Salva o DataFrame como uma tabela Delta no schema bronze, substituindo completamente qualquer tabela existente com o mesmo nome. O formato Delta garante recursos como transações ACID e versionamento, enquanto o modo overwrite apaga os dados anteriores sem confirmação. Ideal para persistir dados brutos na camada bronze em pipelines ETL."
   ]
  },
  {
   "cell_type": "code",
   "execution_count": 0,
   "metadata": {
    "application/vnd.databricks.v1+cell": {
     "cellMetadata": {
      "byteLimit": 2048000,
      "rowLimit": 10000
     },
     "inputWidgets": {},
     "nuid": "03eec662-80f5-46c6-805b-be812ca0647a",
     "showTitle": false,
     "tableResultSettingsMap": {},
     "title": ""
    }
   },
   "outputs": [],
   "source": [
    "dados_brutos_df.write.format(\"delta\").mode(\"overwrite\").saveAsTable(\"bronze.chaves_pix\")"
   ]
  },
  {
   "cell_type": "markdown",
   "metadata": {
    "application/vnd.databricks.v1+cell": {
     "cellMetadata": {
      "byteLimit": 2048000,
      "rowLimit": 10000
     },
     "inputWidgets": {},
     "nuid": "a63c07b5-59a9-4e50-ad2e-4ba0d774cc4c",
     "showTitle": false,
     "tableResultSettingsMap": {},
     "title": ""
    }
   },
   "source": [
    "###Verificação da estrutura da tabela:\n",
    "Consulta simples para visualizar as primeiras 10 linhas da tabela."
   ]
  },
  {
   "cell_type": "code",
   "execution_count": 0,
   "metadata": {
    "application/vnd.databricks.v1+cell": {
     "cellMetadata": {
      "byteLimit": 2048000,
      "implicitDf": true,
      "rowLimit": 10000
     },
     "inputWidgets": {},
     "nuid": "3143779d-e6fe-4cfc-9570-3814dbc3a120",
     "showTitle": false,
     "tableResultSettingsMap": {},
     "title": ""
    }
   },
   "outputs": [
    {
     "output_type": "display_data",
     "data": {
      "text/html": [
       "<style scoped>\n",
       "  .table-result-container {\n",
       "    max-height: 300px;\n",
       "    overflow: auto;\n",
       "  }\n",
       "  table, th, td {\n",
       "    border: 1px solid black;\n",
       "    border-collapse: collapse;\n",
       "  }\n",
       "  th, td {\n",
       "    padding: 5px;\n",
       "  }\n",
       "  th {\n",
       "    text-align: left;\n",
       "  }\n",
       "</style><div class='table-result-container'><table class='table-result'><thead style='background-color: white'><tr><th>Data</th><th>ISPB</th><th>Nome</th><th>NaturezaUsuario</th><th>TipoChave</th><th>qtdChaves</th></tr></thead><tbody><tr><td>2024-04-30</td><td>05442029</td><td>CASA CREDITO S.A. SCM</td><td>PF</td><td>Celular</td><td>46</td></tr><tr><td>2024-06-30</td><td>07564184</td><td>COOP ASCOOB SERTÕES</td><td>PF</td><td>Celular</td><td>6</td></tr><tr><td>2024-04-30</td><td>30723886</td><td>BCO MODAL S.A.</td><td>PF</td><td>Celular</td><td>381</td></tr><tr><td>2025-01-31</td><td>33641877</td><td>EQUIS BANK</td><td>PJ</td><td>e-mail</td><td>4</td></tr><tr><td>2024-10-31</td><td>07097064</td><td>COOP SICOOB CONFIANÇA</td><td>PF</td><td>Aleatória</td><td>2427</td></tr><tr><td>2024-12-31</td><td>70431630</td><td>COOP SICREDI UNIVALES MT/RO</td><td>PF</td><td>Aleatória</td><td>31187</td></tr><tr><td>2024-12-31</td><td>92934215</td><td>BANRISUL S.A. IP</td><td>PJ</td><td>Aleatória</td><td>58545</td></tr><tr><td>2025-02-28</td><td>08561701</td><td>PAGSEGURO INTERNET IP S.A.</td><td>PJ</td><td>e-mail</td><td>362399</td></tr><tr><td>2024-05-31</td><td>09639338</td><td>CECM PRAIA GRANDE E REGIãO</td><td>PJ</td><td>Celular</td><td>1</td></tr><tr><td>2024-10-31</td><td>05428587</td><td>COOP CRESOL OLIVEIRA DOS BREJINHOS</td><td>PJ</td><td>e-mail</td><td>1</td></tr></tbody></table></div>"
      ]
     },
     "metadata": {
      "application/vnd.databricks.v1+output": {
       "addedWidgets": {},
       "aggData": [],
       "aggError": "",
       "aggOverflow": false,
       "aggSchema": [],
       "aggSeriesLimitReached": false,
       "aggType": "",
       "arguments": {},
       "columnCustomDisplayInfos": {},
       "data": [
        [
         "2024-04-30",
         "05442029",
         "CASA CREDITO S.A. SCM",
         "PF",
         "Celular",
         "46"
        ],
        [
         "2024-06-30",
         "07564184",
         "COOP ASCOOB SERTÕES",
         "PF",
         "Celular",
         "6"
        ],
        [
         "2024-04-30",
         "30723886",
         "BCO MODAL S.A.",
         "PF",
         "Celular",
         "381"
        ],
        [
         "2025-01-31",
         "33641877",
         "EQUIS BANK",
         "PJ",
         "e-mail",
         "4"
        ],
        [
         "2024-10-31",
         "07097064",
         "COOP SICOOB CONFIANÇA",
         "PF",
         "Aleatória",
         "2427"
        ],
        [
         "2024-12-31",
         "70431630",
         "COOP SICREDI UNIVALES MT/RO",
         "PF",
         "Aleatória",
         "31187"
        ],
        [
         "2024-12-31",
         "92934215",
         "BANRISUL S.A. IP",
         "PJ",
         "Aleatória",
         "58545"
        ],
        [
         "2025-02-28",
         "08561701",
         "PAGSEGURO INTERNET IP S.A.",
         "PJ",
         "e-mail",
         "362399"
        ],
        [
         "2024-05-31",
         "09639338",
         "CECM PRAIA GRANDE E REGIãO",
         "PJ",
         "Celular",
         "1"
        ],
        [
         "2024-10-31",
         "05428587",
         "COOP CRESOL OLIVEIRA DOS BREJINHOS",
         "PJ",
         "e-mail",
         "1"
        ]
       ],
       "datasetInfos": [],
       "dbfsResultPath": null,
       "isJsonSchema": true,
       "metadata": {},
       "overflow": false,
       "plotOptions": {
        "customPlotOptions": {},
        "displayType": "table",
        "pivotAggregation": null,
        "pivotColumns": null,
        "xColumns": null,
        "yColumns": null
       },
       "removedWidgets": [],
       "schema": [
        {
         "metadata": "{}",
         "name": "Data",
         "type": "\"string\""
        },
        {
         "metadata": "{}",
         "name": "ISPB",
         "type": "\"string\""
        },
        {
         "metadata": "{}",
         "name": "Nome",
         "type": "\"string\""
        },
        {
         "metadata": "{}",
         "name": "NaturezaUsuario",
         "type": "\"string\""
        },
        {
         "metadata": "{}",
         "name": "TipoChave",
         "type": "\"string\""
        },
        {
         "metadata": "{}",
         "name": "qtdChaves",
         "type": "\"string\""
        }
       ],
       "type": "table"
      }
     },
     "output_type": "display_data"
    }
   ],
   "source": [
    "%sql SELECT * FROM bronze.chaves_pix LIMIT 10;"
   ]
  },
  {
   "cell_type": "markdown",
   "metadata": {
    "application/vnd.databricks.v1+cell": {
     "cellMetadata": {
      "byteLimit": 2048000,
      "rowLimit": 10000
     },
     "inputWidgets": {},
     "nuid": "0468e79e-36c7-4915-b5ac-69d27a5ea53b",
     "showTitle": false,
     "tableResultSettingsMap": {},
     "title": ""
    }
   },
   "source": [
    "###Apagando o database \"silver\" para ser recriado: \n",
    "Este comando exclui permanentemente o banco de dados e todos os seus objetos internos. "
   ]
  },
  {
   "cell_type": "code",
   "execution_count": 0,
   "metadata": {
    "application/vnd.databricks.v1+cell": {
     "cellMetadata": {
      "byteLimit": 2048000,
      "implicitDf": true,
      "rowLimit": 10000
     },
     "inputWidgets": {},
     "nuid": "c62a3f05-9743-4f3c-abac-fde99c6aa27c",
     "showTitle": false,
     "tableResultSettingsMap": {},
     "title": ""
    }
   },
   "outputs": [
    {
     "output_type": "display_data",
     "data": {
      "text/html": [
       "<style scoped>\n",
       "  .table-result-container {\n",
       "    max-height: 300px;\n",
       "    overflow: auto;\n",
       "  }\n",
       "  table, th, td {\n",
       "    border: 1px solid black;\n",
       "    border-collapse: collapse;\n",
       "  }\n",
       "  th, td {\n",
       "    padding: 5px;\n",
       "  }\n",
       "  th {\n",
       "    text-align: left;\n",
       "  }\n",
       "</style><div class='table-result-container'><table class='table-result'><thead style='background-color: white'><tr></tr></thead><tbody></tbody></table></div>"
      ]
     },
     "metadata": {
      "application/vnd.databricks.v1+output": {
       "addedWidgets": {},
       "aggData": [],
       "aggError": "",
       "aggOverflow": false,
       "aggSchema": [],
       "aggSeriesLimitReached": false,
       "aggType": "",
       "arguments": {},
       "columnCustomDisplayInfos": {},
       "data": [],
       "datasetInfos": [],
       "dbfsResultPath": null,
       "isJsonSchema": true,
       "metadata": {},
       "overflow": false,
       "plotOptions": {
        "customPlotOptions": {},
        "displayType": "table",
        "pivotAggregation": null,
        "pivotColumns": null,
        "xColumns": null,
        "yColumns": null
       },
       "removedWidgets": [],
       "schema": [],
       "type": "table"
      }
     },
     "output_type": "display_data"
    }
   ],
   "source": [
    "%sql DROP DATABASE silver CASCADE"
   ]
  },
  {
   "cell_type": "markdown",
   "metadata": {
    "application/vnd.databricks.v1+cell": {
     "cellMetadata": {
      "byteLimit": 2048000,
      "rowLimit": 10000
     },
     "inputWidgets": {},
     "nuid": "5567c042-3b7e-46ec-bb62-8bd6322437d9",
     "showTitle": false,
     "tableResultSettingsMap": {},
     "title": ""
    }
   },
   "source": [
    "###Recriando o database \"silver\":\n",
    "Este comando cria um novo banco de dados no ambiente Spark SQL (Databricks)."
   ]
  },
  {
   "cell_type": "code",
   "execution_count": 0,
   "metadata": {
    "application/vnd.databricks.v1+cell": {
     "cellMetadata": {
      "byteLimit": 2048000,
      "implicitDf": true,
      "rowLimit": 10000
     },
     "inputWidgets": {},
     "nuid": "a8e48745-3a8a-428a-935c-dc9be7145bae",
     "showTitle": false,
     "tableResultSettingsMap": {},
     "title": ""
    }
   },
   "outputs": [
    {
     "output_type": "display_data",
     "data": {
      "text/html": [
       "<style scoped>\n",
       "  .table-result-container {\n",
       "    max-height: 300px;\n",
       "    overflow: auto;\n",
       "  }\n",
       "  table, th, td {\n",
       "    border: 1px solid black;\n",
       "    border-collapse: collapse;\n",
       "  }\n",
       "  th, td {\n",
       "    padding: 5px;\n",
       "  }\n",
       "  th {\n",
       "    text-align: left;\n",
       "  }\n",
       "</style><div class='table-result-container'><table class='table-result'><thead style='background-color: white'><tr></tr></thead><tbody></tbody></table></div>"
      ]
     },
     "metadata": {
      "application/vnd.databricks.v1+output": {
       "addedWidgets": {},
       "aggData": [],
       "aggError": "",
       "aggOverflow": false,
       "aggSchema": [],
       "aggSeriesLimitReached": false,
       "aggType": "",
       "arguments": {},
       "columnCustomDisplayInfos": {},
       "data": [],
       "datasetInfos": [],
       "dbfsResultPath": null,
       "isJsonSchema": true,
       "metadata": {},
       "overflow": false,
       "plotOptions": {
        "customPlotOptions": {},
        "displayType": "table",
        "pivotAggregation": null,
        "pivotColumns": null,
        "xColumns": null,
        "yColumns": null
       },
       "removedWidgets": [],
       "schema": [],
       "type": "table"
      }
     },
     "output_type": "display_data"
    }
   ],
   "source": [
    "%sql CREATE DATABASE silver"
   ]
  },
  {
   "cell_type": "markdown",
   "metadata": {
    "application/vnd.databricks.v1+cell": {
     "cellMetadata": {
      "byteLimit": 2048000,
      "rowLimit": 10000
     },
     "inputWidgets": {},
     "nuid": "7bdfce7e-7ebc-4d3b-a43a-bd83fff2c25a",
     "showTitle": false,
     "tableResultSettingsMap": {},
     "title": ""
    }
   },
   "source": [
    "###Transformação de Dados: \n",
    "Foi realizado o processamento de dados brutos da camada bronze para a camada silver, aplicando limpeza e enriquecimento. Primeiro, foi importado funções essenciais do PySpark (col, year, month, dayofmonth) para manipulação de colunas e datas. Em seguida, carrega os dados da tabela Delta Lake bronze.chaves_pix em um DataFrame (bronze_df).\n",
    "A transformação principal inclui:\n",
    "Filtragem de qualidade: Remove registros com valores nulos na coluna qtdChaves, garantindo dados consistentes.\n",
    "Enriquecimento temporal: Adiciona três novas colunas derivadas da data (ano, mes, dia), extraindo esses componentes para facilitar análises temporais.\n",
    "O resultado é um DataFrame (silver_df) pronto para ser persistido como uma tabela Delta Lake na camada silver, com dados limpos e estruturados. \n"
   ]
  },
  {
   "cell_type": "code",
   "execution_count": 0,
   "metadata": {
    "application/vnd.databricks.v1+cell": {
     "cellMetadata": {
      "byteLimit": 2048000,
      "rowLimit": 10000
     },
     "inputWidgets": {},
     "nuid": "460dd640-fcf3-4b08-aee4-9f041747ffea",
     "showTitle": false,
     "tableResultSettingsMap": {},
     "title": ""
    }
   },
   "outputs": [],
   "source": [
    "from pyspark.sql.functions import col, dayofmonth, month, year\n",
    "\n",
    "bronze_df = spark.table(\"bronze.chaves_pix\")\n",
    "\n",
    "silver_df = bronze_df.filter(col(\"qtdChaves\").isNotNull())\n",
    "\n",
    "silver_df = silver_df.withColumn(\"ano\", year(col(\"Data\")))\n",
    "silver_df = silver_df.withColumn(\"mes\", month(col(\"Data\")))\n",
    "silver_df = silver_df.withColumn(\"dia\", dayofmonth(col(\"Data\")))"
   ]
  },
  {
   "cell_type": "markdown",
   "metadata": {
    "application/vnd.databricks.v1+cell": {
     "cellMetadata": {
      "byteLimit": 2048000,
      "rowLimit": 10000
     },
     "inputWidgets": {},
     "nuid": "a4f9d048-5740-4394-ba23-001355e82d0c",
     "showTitle": false,
     "tableResultSettingsMap": {},
     "title": ""
    }
   },
   "source": [
    "###Salvando em uma tabela:\n",
    "O comando salva o DataFrame silver_df como uma tabela Delta Lake chamada silver.chaves_pix, substituindo completamente qualquer versão existente da tabela. O formato Delta garante recursos avançados como transações seguras (ACID), versionamento de dados e otimizações de desempenho. A tabela é armazenada como uma tabela gerenciada no metastore do Databricks, pronta para próxima etapa do pipeline."
   ]
  },
  {
   "cell_type": "code",
   "execution_count": 0,
   "metadata": {
    "application/vnd.databricks.v1+cell": {
     "cellMetadata": {
      "byteLimit": 2048000,
      "rowLimit": 10000
     },
     "inputWidgets": {},
     "nuid": "98663af5-b59b-4caf-89dc-aa7004c6aa3d",
     "showTitle": false,
     "tableResultSettingsMap": {},
     "title": ""
    }
   },
   "outputs": [],
   "source": [
    "silver_df.write.format(\"delta\").mode(\"overwrite\").saveAsTable(\"silver.chaves_pix\")"
   ]
  },
  {
   "cell_type": "markdown",
   "metadata": {
    "application/vnd.databricks.v1+cell": {
     "cellMetadata": {
      "byteLimit": 2048000,
      "rowLimit": 10000
     },
     "inputWidgets": {},
     "nuid": "018fa3f7-143e-4f1f-a017-d09ad1407a22",
     "showTitle": false,
     "tableResultSettingsMap": {},
     "title": ""
    }
   },
   "source": [
    "###Verificação da estrutura da tabela:\n",
    "Consulta simples para visualizar as primeiras 10 linhas da tabela."
   ]
  },
  {
   "cell_type": "code",
   "execution_count": 0,
   "metadata": {
    "application/vnd.databricks.v1+cell": {
     "cellMetadata": {
      "byteLimit": 2048000,
      "implicitDf": true,
      "rowLimit": 10000
     },
     "inputWidgets": {},
     "nuid": "c32d28b0-445a-4bab-975b-838cb4c6f314",
     "showTitle": false,
     "tableResultSettingsMap": {},
     "title": ""
    }
   },
   "outputs": [
    {
     "output_type": "display_data",
     "data": {
      "text/html": [
       "<style scoped>\n",
       "  .table-result-container {\n",
       "    max-height: 300px;\n",
       "    overflow: auto;\n",
       "  }\n",
       "  table, th, td {\n",
       "    border: 1px solid black;\n",
       "    border-collapse: collapse;\n",
       "  }\n",
       "  th, td {\n",
       "    padding: 5px;\n",
       "  }\n",
       "  th {\n",
       "    text-align: left;\n",
       "  }\n",
       "</style><div class='table-result-container'><table class='table-result'><thead style='background-color: white'><tr><th>Data</th><th>ISPB</th><th>Nome</th><th>NaturezaUsuario</th><th>TipoChave</th><th>qtdChaves</th><th>ano</th><th>mes</th><th>dia</th></tr></thead><tbody><tr><td>2024-04-30</td><td>05442029</td><td>CASA CREDITO S.A. SCM</td><td>PF</td><td>Celular</td><td>46</td><td>2024</td><td>4</td><td>30</td></tr><tr><td>2024-06-30</td><td>07564184</td><td>COOP ASCOOB SERTÕES</td><td>PF</td><td>Celular</td><td>6</td><td>2024</td><td>6</td><td>30</td></tr><tr><td>2024-04-30</td><td>30723886</td><td>BCO MODAL S.A.</td><td>PF</td><td>Celular</td><td>381</td><td>2024</td><td>4</td><td>30</td></tr><tr><td>2025-01-31</td><td>33641877</td><td>EQUIS BANK</td><td>PJ</td><td>e-mail</td><td>4</td><td>2025</td><td>1</td><td>31</td></tr><tr><td>2024-10-31</td><td>07097064</td><td>COOP SICOOB CONFIANÇA</td><td>PF</td><td>Aleatória</td><td>2427</td><td>2024</td><td>10</td><td>31</td></tr><tr><td>2024-12-31</td><td>70431630</td><td>COOP SICREDI UNIVALES MT/RO</td><td>PF</td><td>Aleatória</td><td>31187</td><td>2024</td><td>12</td><td>31</td></tr><tr><td>2024-12-31</td><td>92934215</td><td>BANRISUL S.A. IP</td><td>PJ</td><td>Aleatória</td><td>58545</td><td>2024</td><td>12</td><td>31</td></tr><tr><td>2025-02-28</td><td>08561701</td><td>PAGSEGURO INTERNET IP S.A.</td><td>PJ</td><td>e-mail</td><td>362399</td><td>2025</td><td>2</td><td>28</td></tr><tr><td>2024-05-31</td><td>09639338</td><td>CECM PRAIA GRANDE E REGIãO</td><td>PJ</td><td>Celular</td><td>1</td><td>2024</td><td>5</td><td>31</td></tr><tr><td>2024-10-31</td><td>05428587</td><td>COOP CRESOL OLIVEIRA DOS BREJINHOS</td><td>PJ</td><td>e-mail</td><td>1</td><td>2024</td><td>10</td><td>31</td></tr></tbody></table></div>"
      ]
     },
     "metadata": {
      "application/vnd.databricks.v1+output": {
       "addedWidgets": {},
       "aggData": [],
       "aggError": "",
       "aggOverflow": false,
       "aggSchema": [],
       "aggSeriesLimitReached": false,
       "aggType": "",
       "arguments": {},
       "columnCustomDisplayInfos": {},
       "data": [
        [
         "2024-04-30",
         "05442029",
         "CASA CREDITO S.A. SCM",
         "PF",
         "Celular",
         "46",
         2024,
         4,
         30
        ],
        [
         "2024-06-30",
         "07564184",
         "COOP ASCOOB SERTÕES",
         "PF",
         "Celular",
         "6",
         2024,
         6,
         30
        ],
        [
         "2024-04-30",
         "30723886",
         "BCO MODAL S.A.",
         "PF",
         "Celular",
         "381",
         2024,
         4,
         30
        ],
        [
         "2025-01-31",
         "33641877",
         "EQUIS BANK",
         "PJ",
         "e-mail",
         "4",
         2025,
         1,
         31
        ],
        [
         "2024-10-31",
         "07097064",
         "COOP SICOOB CONFIANÇA",
         "PF",
         "Aleatória",
         "2427",
         2024,
         10,
         31
        ],
        [
         "2024-12-31",
         "70431630",
         "COOP SICREDI UNIVALES MT/RO",
         "PF",
         "Aleatória",
         "31187",
         2024,
         12,
         31
        ],
        [
         "2024-12-31",
         "92934215",
         "BANRISUL S.A. IP",
         "PJ",
         "Aleatória",
         "58545",
         2024,
         12,
         31
        ],
        [
         "2025-02-28",
         "08561701",
         "PAGSEGURO INTERNET IP S.A.",
         "PJ",
         "e-mail",
         "362399",
         2025,
         2,
         28
        ],
        [
         "2024-05-31",
         "09639338",
         "CECM PRAIA GRANDE E REGIãO",
         "PJ",
         "Celular",
         "1",
         2024,
         5,
         31
        ],
        [
         "2024-10-31",
         "05428587",
         "COOP CRESOL OLIVEIRA DOS BREJINHOS",
         "PJ",
         "e-mail",
         "1",
         2024,
         10,
         31
        ]
       ],
       "datasetInfos": [],
       "dbfsResultPath": null,
       "isJsonSchema": true,
       "metadata": {},
       "overflow": false,
       "plotOptions": {
        "customPlotOptions": {},
        "displayType": "table",
        "pivotAggregation": null,
        "pivotColumns": null,
        "xColumns": null,
        "yColumns": null
       },
       "removedWidgets": [],
       "schema": [
        {
         "metadata": "{}",
         "name": "Data",
         "type": "\"string\""
        },
        {
         "metadata": "{}",
         "name": "ISPB",
         "type": "\"string\""
        },
        {
         "metadata": "{}",
         "name": "Nome",
         "type": "\"string\""
        },
        {
         "metadata": "{}",
         "name": "NaturezaUsuario",
         "type": "\"string\""
        },
        {
         "metadata": "{}",
         "name": "TipoChave",
         "type": "\"string\""
        },
        {
         "metadata": "{}",
         "name": "qtdChaves",
         "type": "\"string\""
        },
        {
         "metadata": "{}",
         "name": "ano",
         "type": "\"integer\""
        },
        {
         "metadata": "{}",
         "name": "mes",
         "type": "\"integer\""
        },
        {
         "metadata": "{}",
         "name": "dia",
         "type": "\"integer\""
        }
       ],
       "type": "table"
      }
     },
     "output_type": "display_data"
    }
   ],
   "source": [
    "%sql SELECT * FROM silver.chaves_pix LIMIT 10;"
   ]
  },
  {
   "cell_type": "markdown",
   "metadata": {
    "application/vnd.databricks.v1+cell": {
     "cellMetadata": {
      "byteLimit": 2048000,
      "rowLimit": 10000
     },
     "inputWidgets": {},
     "nuid": "26456996-3dfc-4747-9d0b-040016414255",
     "showTitle": false,
     "tableResultSettingsMap": {},
     "title": ""
    }
   },
   "source": [
    "###Apagando o database \"gold\" para ser recriado: \n",
    "Este comando exclui permanentemente o banco de dados e todos os seus objetos internos. "
   ]
  },
  {
   "cell_type": "code",
   "execution_count": 0,
   "metadata": {
    "application/vnd.databricks.v1+cell": {
     "cellMetadata": {
      "byteLimit": 2048000,
      "implicitDf": true,
      "rowLimit": 10000
     },
     "inputWidgets": {},
     "nuid": "208600cc-36e3-4b4d-9ad4-6f6b6179e4d8",
     "showTitle": false,
     "tableResultSettingsMap": {},
     "title": ""
    }
   },
   "outputs": [
    {
     "output_type": "display_data",
     "data": {
      "text/html": [
       "<style scoped>\n",
       "  .table-result-container {\n",
       "    max-height: 300px;\n",
       "    overflow: auto;\n",
       "  }\n",
       "  table, th, td {\n",
       "    border: 1px solid black;\n",
       "    border-collapse: collapse;\n",
       "  }\n",
       "  th, td {\n",
       "    padding: 5px;\n",
       "  }\n",
       "  th {\n",
       "    text-align: left;\n",
       "  }\n",
       "</style><div class='table-result-container'><table class='table-result'><thead style='background-color: white'><tr></tr></thead><tbody></tbody></table></div>"
      ]
     },
     "metadata": {
      "application/vnd.databricks.v1+output": {
       "addedWidgets": {},
       "aggData": [],
       "aggError": "",
       "aggOverflow": false,
       "aggSchema": [],
       "aggSeriesLimitReached": false,
       "aggType": "",
       "arguments": {},
       "columnCustomDisplayInfos": {},
       "data": [],
       "datasetInfos": [],
       "dbfsResultPath": null,
       "isJsonSchema": true,
       "metadata": {},
       "overflow": false,
       "plotOptions": {
        "customPlotOptions": {},
        "displayType": "table",
        "pivotAggregation": null,
        "pivotColumns": null,
        "xColumns": null,
        "yColumns": null
       },
       "removedWidgets": [],
       "schema": [],
       "type": "table"
      }
     },
     "output_type": "display_data"
    }
   ],
   "source": [
    "%sql DROP DATABASE gold CASCADE"
   ]
  },
  {
   "cell_type": "markdown",
   "metadata": {
    "application/vnd.databricks.v1+cell": {
     "cellMetadata": {
      "byteLimit": 2048000,
      "rowLimit": 10000
     },
     "inputWidgets": {},
     "nuid": "2770b957-4eea-4e29-8bf9-8396b1e624fe",
     "showTitle": false,
     "tableResultSettingsMap": {},
     "title": ""
    }
   },
   "source": [
    "###Recriando o database \"gold\":\n",
    "Este comando cria um novo banco de dados no ambiente Spark SQL (Databricks)."
   ]
  },
  {
   "cell_type": "code",
   "execution_count": 0,
   "metadata": {
    "application/vnd.databricks.v1+cell": {
     "cellMetadata": {
      "byteLimit": 2048000,
      "implicitDf": true,
      "rowLimit": 10000
     },
     "inputWidgets": {},
     "nuid": "23601f11-cf9b-438a-94fa-eacb1fd3706e",
     "showTitle": false,
     "tableResultSettingsMap": {},
     "title": ""
    }
   },
   "outputs": [
    {
     "output_type": "display_data",
     "data": {
      "text/html": [
       "<style scoped>\n",
       "  .table-result-container {\n",
       "    max-height: 300px;\n",
       "    overflow: auto;\n",
       "  }\n",
       "  table, th, td {\n",
       "    border: 1px solid black;\n",
       "    border-collapse: collapse;\n",
       "  }\n",
       "  th, td {\n",
       "    padding: 5px;\n",
       "  }\n",
       "  th {\n",
       "    text-align: left;\n",
       "  }\n",
       "</style><div class='table-result-container'><table class='table-result'><thead style='background-color: white'><tr></tr></thead><tbody></tbody></table></div>"
      ]
     },
     "metadata": {
      "application/vnd.databricks.v1+output": {
       "addedWidgets": {},
       "aggData": [],
       "aggError": "",
       "aggOverflow": false,
       "aggSchema": [],
       "aggSeriesLimitReached": false,
       "aggType": "",
       "arguments": {},
       "columnCustomDisplayInfos": {},
       "data": [],
       "datasetInfos": [],
       "dbfsResultPath": null,
       "isJsonSchema": true,
       "metadata": {},
       "overflow": false,
       "plotOptions": {
        "customPlotOptions": {},
        "displayType": "table",
        "pivotAggregation": null,
        "pivotColumns": null,
        "xColumns": null,
        "yColumns": null
       },
       "removedWidgets": [],
       "schema": [],
       "type": "table"
      }
     },
     "output_type": "display_data"
    }
   ],
   "source": [
    "%sql CREATE DATABASE gold"
   ]
  },
  {
   "cell_type": "markdown",
   "metadata": {
    "application/vnd.databricks.v1+cell": {
     "cellMetadata": {
      "byteLimit": 2048000,
      "rowLimit": 10000
     },
     "inputWidgets": {},
     "nuid": "bab5dbfd-fd96-4f89-b018-086438160884",
     "showTitle": false,
     "tableResultSettingsMap": {},
     "title": ""
    }
   },
   "source": [
    "###Criação de Modelo Dimensional (Esquema Estrela) na Camada Gold:\n",
    "\n",
    "O código SQL transforma dados da camada silver em um modelo dimensional na camada gold, composto por uma tabela de fatos e quatro tabelas de dimensão para análise de dados de chaves PIX.\n",
    "\n",
    "Estrutura Criada:\n",
    "- Tabela de Fatos:\n",
    "\n",
    "Armazena os dados transacionais principais: Data, ISPB, NaturezaUsuario, TipoChave e qtdChaves.\n",
    "\n",
    "- Tabelas de Dimensão:\n",
    "\n",
    "Tempo: Extrai ano, mês e dia da data para análises temporais.\n",
    "\n",
    "Instituição: Lista instituições financeiras (ISPB e Nome) sem duplicatas.\n",
    "\n",
    "Usuário: Cataloga naturezas de usuários distintas.\n",
    "\n",
    "Tipo de Chave: Relaciona todos os tipos de chaves PIX existentes.\n",
    "\n",
    "- Como Funciona:\n",
    "\n",
    "Usei o CREATE OR REPLACE TABLE para sobrescrever as tabelas existentes, DISTINCT nas dimensões para evitar duplicatas.\n",
    "Os dados são persistidos como Delta Lake (padrão Databricks), permitindo versionamento e otimizações.\n",
    "\n",
    "- Objetivo:\n",
    "\n",
    "Estruturar os dados para consultas analíticas eficientes, integração com ferramentas de BI escalabilidade do modelo."
   ]
  },
  {
   "cell_type": "code",
   "execution_count": 0,
   "metadata": {
    "application/vnd.databricks.v1+cell": {
     "cellMetadata": {
      "byteLimit": 2048000,
      "implicitDf": true,
      "rowLimit": 10000
     },
     "inputWidgets": {},
     "nuid": "de58a71e-cec3-46fa-9f46-31a773b3ebb5",
     "showTitle": false,
     "tableResultSettingsMap": {},
     "title": ""
    }
   },
   "outputs": [
    {
     "output_type": "display_data",
     "data": {
      "text/html": [
       "<style scoped>\n",
       "  .table-result-container {\n",
       "    max-height: 300px;\n",
       "    overflow: auto;\n",
       "  }\n",
       "  table, th, td {\n",
       "    border: 1px solid black;\n",
       "    border-collapse: collapse;\n",
       "  }\n",
       "  th, td {\n",
       "    padding: 5px;\n",
       "  }\n",
       "  th {\n",
       "    text-align: left;\n",
       "  }\n",
       "</style><div class='table-result-container'><table class='table-result'><thead style='background-color: white'><tr><th>num_affected_rows</th><th>num_inserted_rows</th></tr></thead><tbody></tbody></table></div>"
      ]
     },
     "metadata": {
      "application/vnd.databricks.v1+output": {
       "addedWidgets": {},
       "aggData": [],
       "aggError": "",
       "aggOverflow": false,
       "aggSchema": [],
       "aggSeriesLimitReached": false,
       "aggType": "",
       "arguments": {},
       "columnCustomDisplayInfos": {},
       "data": [],
       "datasetInfos": [],
       "dbfsResultPath": null,
       "isJsonSchema": true,
       "metadata": {},
       "overflow": false,
       "plotOptions": {
        "customPlotOptions": {},
        "displayType": "table",
        "pivotAggregation": null,
        "pivotColumns": null,
        "xColumns": null,
        "yColumns": null
       },
       "removedWidgets": [],
       "schema": [
        {
         "metadata": "{}",
         "name": "num_affected_rows",
         "type": "\"long\""
        },
        {
         "metadata": "{}",
         "name": "num_inserted_rows",
         "type": "\"long\""
        }
       ],
       "type": "table"
      }
     },
     "output_type": "display_data"
    }
   ],
   "source": [
    "%sql\n",
    "CREATE OR REPLACE TABLE gold.fatos_chaves_pix AS\n",
    "SELECT \n",
    "  Data,\n",
    "  ISPB,\n",
    "  NaturezaUsuario,\n",
    "  TipoChave,\n",
    "  qtdChaves\n",
    "FROM silver.chaves_pix;\n",
    "\n",
    "\n",
    "CREATE OR REPLACE TABLE gold.dimensao_tempo AS\n",
    "SELECT\n",
    "    DISTINCT Data,\n",
    "    YEAR(Data) AS ano,\n",
    "    MONTH(Data) AS mes,\n",
    "    DAY(Data) AS dia\n",
    "FROM silver.chaves_pix;\n",
    "\n",
    "\n",
    "CREATE OR REPLACE TABLE gold.dimensao_instituicao AS\n",
    "SELECT\n",
    "    DISTINCT ISPB,\n",
    "    Nome\n",
    "FROM silver.chaves_pix;\n",
    "\n",
    "\n",
    "CREATE OR REPLACE TABLE gold.dimensao_usuario AS\n",
    "SELECT\n",
    "    DISTINCT NaturezaUsuario\n",
    "FROM silver.chaves_pix;\n",
    "\n",
    "\n",
    "CREATE OR REPLACE TABLE gold.dimensao_tipo_chave AS\n",
    "SELECT\n",
    "    DISTINCT TipoChave\n",
    "FROM silver.chaves_pix;"
   ]
  },
  {
   "cell_type": "markdown",
   "metadata": {
    "application/vnd.databricks.v1+cell": {
     "cellMetadata": {
      "byteLimit": 2048000,
      "rowLimit": 10000
     },
     "inputWidgets": {},
     "nuid": "e08b5670-f42c-44a0-b857-f52873f7c16f",
     "showTitle": false,
     "tableResultSettingsMap": {},
     "title": ""
    }
   },
   "source": [
    "###Verificação da estrutura das tabelas:\n",
    "Consulta simples para visualizar as primeiras 10 linhas da tabela."
   ]
  },
  {
   "cell_type": "code",
   "execution_count": 0,
   "metadata": {
    "application/vnd.databricks.v1+cell": {
     "cellMetadata": {
      "byteLimit": 2048000,
      "implicitDf": true,
      "rowLimit": 10000
     },
     "inputWidgets": {},
     "nuid": "8c7530a7-e1dc-4987-a8ae-9afaff1e2f79",
     "showTitle": false,
     "tableResultSettingsMap": {},
     "title": ""
    }
   },
   "outputs": [
    {
     "output_type": "display_data",
     "data": {
      "text/html": [
       "<style scoped>\n",
       "  .table-result-container {\n",
       "    max-height: 300px;\n",
       "    overflow: auto;\n",
       "  }\n",
       "  table, th, td {\n",
       "    border: 1px solid black;\n",
       "    border-collapse: collapse;\n",
       "  }\n",
       "  th, td {\n",
       "    padding: 5px;\n",
       "  }\n",
       "  th {\n",
       "    text-align: left;\n",
       "  }\n",
       "</style><div class='table-result-container'><table class='table-result'><thead style='background-color: white'><tr><th>Data</th><th>ISPB</th><th>NaturezaUsuario</th><th>TipoChave</th><th>qtdChaves</th></tr></thead><tbody><tr><td>2024-04-30</td><td>05442029</td><td>PF</td><td>Celular</td><td>46</td></tr><tr><td>2024-06-30</td><td>07564184</td><td>PF</td><td>Celular</td><td>6</td></tr><tr><td>2024-04-30</td><td>30723886</td><td>PF</td><td>Celular</td><td>381</td></tr><tr><td>2025-01-31</td><td>33641877</td><td>PJ</td><td>e-mail</td><td>4</td></tr><tr><td>2024-10-31</td><td>07097064</td><td>PF</td><td>Aleatória</td><td>2427</td></tr><tr><td>2024-12-31</td><td>70431630</td><td>PF</td><td>Aleatória</td><td>31187</td></tr><tr><td>2024-12-31</td><td>92934215</td><td>PJ</td><td>Aleatória</td><td>58545</td></tr><tr><td>2025-02-28</td><td>08561701</td><td>PJ</td><td>e-mail</td><td>362399</td></tr><tr><td>2024-05-31</td><td>09639338</td><td>PJ</td><td>Celular</td><td>1</td></tr><tr><td>2024-10-31</td><td>05428587</td><td>PJ</td><td>e-mail</td><td>1</td></tr></tbody></table></div>"
      ]
     },
     "metadata": {
      "application/vnd.databricks.v1+output": {
       "addedWidgets": {},
       "aggData": [],
       "aggError": "",
       "aggOverflow": false,
       "aggSchema": [],
       "aggSeriesLimitReached": false,
       "aggType": "",
       "arguments": {},
       "columnCustomDisplayInfos": {},
       "data": [
        [
         "2024-04-30",
         "05442029",
         "PF",
         "Celular",
         "46"
        ],
        [
         "2024-06-30",
         "07564184",
         "PF",
         "Celular",
         "6"
        ],
        [
         "2024-04-30",
         "30723886",
         "PF",
         "Celular",
         "381"
        ],
        [
         "2025-01-31",
         "33641877",
         "PJ",
         "e-mail",
         "4"
        ],
        [
         "2024-10-31",
         "07097064",
         "PF",
         "Aleatória",
         "2427"
        ],
        [
         "2024-12-31",
         "70431630",
         "PF",
         "Aleatória",
         "31187"
        ],
        [
         "2024-12-31",
         "92934215",
         "PJ",
         "Aleatória",
         "58545"
        ],
        [
         "2025-02-28",
         "08561701",
         "PJ",
         "e-mail",
         "362399"
        ],
        [
         "2024-05-31",
         "09639338",
         "PJ",
         "Celular",
         "1"
        ],
        [
         "2024-10-31",
         "05428587",
         "PJ",
         "e-mail",
         "1"
        ]
       ],
       "datasetInfos": [],
       "dbfsResultPath": null,
       "isJsonSchema": true,
       "metadata": {},
       "overflow": false,
       "plotOptions": {
        "customPlotOptions": {},
        "displayType": "table",
        "pivotAggregation": null,
        "pivotColumns": null,
        "xColumns": null,
        "yColumns": null
       },
       "removedWidgets": [],
       "schema": [
        {
         "metadata": "{}",
         "name": "Data",
         "type": "\"string\""
        },
        {
         "metadata": "{}",
         "name": "ISPB",
         "type": "\"string\""
        },
        {
         "metadata": "{}",
         "name": "NaturezaUsuario",
         "type": "\"string\""
        },
        {
         "metadata": "{}",
         "name": "TipoChave",
         "type": "\"string\""
        },
        {
         "metadata": "{}",
         "name": "qtdChaves",
         "type": "\"string\""
        }
       ],
       "type": "table"
      }
     },
     "output_type": "display_data"
    }
   ],
   "source": [
    "%sql SELECT * FROM gold.fatos_chaves_pix LIMIT 10;"
   ]
  },
  {
   "cell_type": "code",
   "execution_count": 0,
   "metadata": {
    "application/vnd.databricks.v1+cell": {
     "cellMetadata": {
      "byteLimit": 2048000,
      "implicitDf": true,
      "rowLimit": 10000
     },
     "inputWidgets": {},
     "nuid": "45f2235a-c8b9-4c46-86a1-ab5e0cd6a33c",
     "showTitle": false,
     "tableResultSettingsMap": {},
     "title": ""
    }
   },
   "outputs": [
    {
     "output_type": "display_data",
     "data": {
      "text/html": [
       "<style scoped>\n",
       "  .table-result-container {\n",
       "    max-height: 300px;\n",
       "    overflow: auto;\n",
       "  }\n",
       "  table, th, td {\n",
       "    border: 1px solid black;\n",
       "    border-collapse: collapse;\n",
       "  }\n",
       "  th, td {\n",
       "    padding: 5px;\n",
       "  }\n",
       "  th {\n",
       "    text-align: left;\n",
       "  }\n",
       "</style><div class='table-result-container'><table class='table-result'><thead style='background-color: white'><tr><th>Data</th><th>ano</th><th>mes</th><th>dia</th></tr></thead><tbody><tr><td>2024-01-31</td><td>2024</td><td>1</td><td>31</td></tr><tr><td>2024-07-31</td><td>2024</td><td>7</td><td>31</td></tr><tr><td>2024-12-31</td><td>2024</td><td>12</td><td>31</td></tr><tr><td>2025-02-28</td><td>2025</td><td>2</td><td>28</td></tr><tr><td>2025-01-31</td><td>2025</td><td>1</td><td>31</td></tr><tr><td>2024-05-31</td><td>2024</td><td>5</td><td>31</td></tr><tr><td>2024-11-30</td><td>2024</td><td>11</td><td>30</td></tr><tr><td>2024-09-30</td><td>2024</td><td>9</td><td>30</td></tr><tr><td>2024-04-30</td><td>2024</td><td>4</td><td>30</td></tr><tr><td>2024-06-30</td><td>2024</td><td>6</td><td>30</td></tr></tbody></table></div>"
      ]
     },
     "metadata": {
      "application/vnd.databricks.v1+output": {
       "addedWidgets": {},
       "aggData": [],
       "aggError": "",
       "aggOverflow": false,
       "aggSchema": [],
       "aggSeriesLimitReached": false,
       "aggType": "",
       "arguments": {},
       "columnCustomDisplayInfos": {},
       "data": [
        [
         "2024-01-31",
         2024,
         1,
         31
        ],
        [
         "2024-07-31",
         2024,
         7,
         31
        ],
        [
         "2024-12-31",
         2024,
         12,
         31
        ],
        [
         "2025-02-28",
         2025,
         2,
         28
        ],
        [
         "2025-01-31",
         2025,
         1,
         31
        ],
        [
         "2024-05-31",
         2024,
         5,
         31
        ],
        [
         "2024-11-30",
         2024,
         11,
         30
        ],
        [
         "2024-09-30",
         2024,
         9,
         30
        ],
        [
         "2024-04-30",
         2024,
         4,
         30
        ],
        [
         "2024-06-30",
         2024,
         6,
         30
        ]
       ],
       "datasetInfos": [],
       "dbfsResultPath": null,
       "isJsonSchema": true,
       "metadata": {},
       "overflow": false,
       "plotOptions": {
        "customPlotOptions": {},
        "displayType": "table",
        "pivotAggregation": null,
        "pivotColumns": null,
        "xColumns": null,
        "yColumns": null
       },
       "removedWidgets": [],
       "schema": [
        {
         "metadata": "{}",
         "name": "Data",
         "type": "\"string\""
        },
        {
         "metadata": "{}",
         "name": "ano",
         "type": "\"integer\""
        },
        {
         "metadata": "{}",
         "name": "mes",
         "type": "\"integer\""
        },
        {
         "metadata": "{}",
         "name": "dia",
         "type": "\"integer\""
        }
       ],
       "type": "table"
      }
     },
     "output_type": "display_data"
    }
   ],
   "source": [
    "%sql SELECT * FROM gold.dimensao_tempo LIMIT 10;"
   ]
  },
  {
   "cell_type": "code",
   "execution_count": 0,
   "metadata": {
    "application/vnd.databricks.v1+cell": {
     "cellMetadata": {
      "byteLimit": 2048000,
      "implicitDf": true,
      "rowLimit": 10000
     },
     "inputWidgets": {},
     "nuid": "620baabc-3392-40db-9050-6ea7e1e5120f",
     "showTitle": false,
     "tableResultSettingsMap": {},
     "title": ""
    }
   },
   "outputs": [
    {
     "output_type": "display_data",
     "data": {
      "text/html": [
       "<style scoped>\n",
       "  .table-result-container {\n",
       "    max-height: 300px;\n",
       "    overflow: auto;\n",
       "  }\n",
       "  table, th, td {\n",
       "    border: 1px solid black;\n",
       "    border-collapse: collapse;\n",
       "  }\n",
       "  th, td {\n",
       "    padding: 5px;\n",
       "  }\n",
       "  th {\n",
       "    text-align: left;\n",
       "  }\n",
       "</style><div class='table-result-container'><table class='table-result'><thead style='background-color: white'><tr><th>ISPB</th><th>Nome</th></tr></thead><tbody><tr><td>05241145</td><td>COOP CRESOL GETULIO VARGAS</td></tr><tr><td>05745533</td><td>COOP CRESOL ITATIBA DO SUL</td></tr><tr><td>07122321</td><td>CC INTEGRADO - SICOOB INTEGRADO</td></tr><tr><td>02931668</td><td>SICOOB FLUMINENSE</td></tr><tr><td>33923798</td><td>BANCO MASTER</td></tr><tr><td>92874270</td><td>BCO DIGIMAIS S.A.</td></tr><tr><td>81099491</td><td>COOP SICREDI VALE DO PIQUIRI</td></tr><tr><td>00694389</td><td>CCLA SICOOB CREDICARU SC/RS</td></tr><tr><td>03222753</td><td>CREDISIS CREDIARI COOP LTDA.</td></tr><tr><td>06174009</td><td>CC SICOOB ALIANÇA</td></tr></tbody></table></div>"
      ]
     },
     "metadata": {
      "application/vnd.databricks.v1+output": {
       "addedWidgets": {},
       "aggData": [],
       "aggError": "",
       "aggOverflow": false,
       "aggSchema": [],
       "aggSeriesLimitReached": false,
       "aggType": "",
       "arguments": {},
       "columnCustomDisplayInfos": {},
       "data": [
        [
         "05241145",
         "COOP CRESOL GETULIO VARGAS"
        ],
        [
         "05745533",
         "COOP CRESOL ITATIBA DO SUL"
        ],
        [
         "07122321",
         "CC INTEGRADO - SICOOB INTEGRADO"
        ],
        [
         "02931668",
         "SICOOB FLUMINENSE"
        ],
        [
         "33923798",
         "BANCO MASTER"
        ],
        [
         "92874270",
         "BCO DIGIMAIS S.A."
        ],
        [
         "81099491",
         "COOP SICREDI VALE DO PIQUIRI"
        ],
        [
         "00694389",
         "CCLA SICOOB CREDICARU SC/RS"
        ],
        [
         "03222753",
         "CREDISIS CREDIARI COOP LTDA."
        ],
        [
         "06174009",
         "CC SICOOB ALIANÇA"
        ]
       ],
       "datasetInfos": [],
       "dbfsResultPath": null,
       "isJsonSchema": true,
       "metadata": {},
       "overflow": false,
       "plotOptions": {
        "customPlotOptions": {},
        "displayType": "table",
        "pivotAggregation": null,
        "pivotColumns": null,
        "xColumns": null,
        "yColumns": null
       },
       "removedWidgets": [],
       "schema": [
        {
         "metadata": "{}",
         "name": "ISPB",
         "type": "\"string\""
        },
        {
         "metadata": "{}",
         "name": "Nome",
         "type": "\"string\""
        }
       ],
       "type": "table"
      }
     },
     "output_type": "display_data"
    }
   ],
   "source": [
    "%sql SELECT * FROM gold.dimensao_instituicao LIMIT 10;"
   ]
  },
  {
   "cell_type": "code",
   "execution_count": 0,
   "metadata": {
    "application/vnd.databricks.v1+cell": {
     "cellMetadata": {
      "byteLimit": 2048000,
      "implicitDf": true,
      "rowLimit": 10000
     },
     "inputWidgets": {},
     "nuid": "ea23e744-d174-45e1-bb5e-5986e863a964",
     "showTitle": false,
     "tableResultSettingsMap": {},
     "title": ""
    }
   },
   "outputs": [
    {
     "output_type": "display_data",
     "data": {
      "text/html": [
       "<style scoped>\n",
       "  .table-result-container {\n",
       "    max-height: 300px;\n",
       "    overflow: auto;\n",
       "  }\n",
       "  table, th, td {\n",
       "    border: 1px solid black;\n",
       "    border-collapse: collapse;\n",
       "  }\n",
       "  th, td {\n",
       "    padding: 5px;\n",
       "  }\n",
       "  th {\n",
       "    text-align: left;\n",
       "  }\n",
       "</style><div class='table-result-container'><table class='table-result'><thead style='background-color: white'><tr><th>NaturezaUsuario</th></tr></thead><tbody><tr><td>PF</td></tr><tr><td>PJ</td></tr></tbody></table></div>"
      ]
     },
     "metadata": {
      "application/vnd.databricks.v1+output": {
       "addedWidgets": {},
       "aggData": [],
       "aggError": "",
       "aggOverflow": false,
       "aggSchema": [],
       "aggSeriesLimitReached": false,
       "aggType": "",
       "arguments": {},
       "columnCustomDisplayInfos": {},
       "data": [
        [
         "PF"
        ],
        [
         "PJ"
        ]
       ],
       "datasetInfos": [],
       "dbfsResultPath": null,
       "isJsonSchema": true,
       "metadata": {},
       "overflow": false,
       "plotOptions": {
        "customPlotOptions": {},
        "displayType": "table",
        "pivotAggregation": null,
        "pivotColumns": null,
        "xColumns": null,
        "yColumns": null
       },
       "removedWidgets": [],
       "schema": [
        {
         "metadata": "{}",
         "name": "NaturezaUsuario",
         "type": "\"string\""
        }
       ],
       "type": "table"
      }
     },
     "output_type": "display_data"
    }
   ],
   "source": [
    "%sql SELECT * FROM gold.dimensao_usuario LIMIT 10;"
   ]
  },
  {
   "cell_type": "code",
   "execution_count": 0,
   "metadata": {
    "application/vnd.databricks.v1+cell": {
     "cellMetadata": {
      "byteLimit": 2048000,
      "implicitDf": true,
      "rowLimit": 10000
     },
     "inputWidgets": {},
     "nuid": "e1121418-b8a1-4465-800f-e07d76ec567c",
     "showTitle": false,
     "tableResultSettingsMap": {},
     "title": ""
    }
   },
   "outputs": [
    {
     "output_type": "display_data",
     "data": {
      "text/html": [
       "<style scoped>\n",
       "  .table-result-container {\n",
       "    max-height: 300px;\n",
       "    overflow: auto;\n",
       "  }\n",
       "  table, th, td {\n",
       "    border: 1px solid black;\n",
       "    border-collapse: collapse;\n",
       "  }\n",
       "  th, td {\n",
       "    padding: 5px;\n",
       "  }\n",
       "  th {\n",
       "    text-align: left;\n",
       "  }\n",
       "</style><div class='table-result-container'><table class='table-result'><thead style='background-color: white'><tr><th>TipoChave</th></tr></thead><tbody><tr><td>Celular</td></tr><tr><td>CNPJ</td></tr><tr><td>CPF</td></tr><tr><td>Aleatória</td></tr><tr><td>e-mail</td></tr></tbody></table></div>"
      ]
     },
     "metadata": {
      "application/vnd.databricks.v1+output": {
       "addedWidgets": {},
       "aggData": [],
       "aggError": "",
       "aggOverflow": false,
       "aggSchema": [],
       "aggSeriesLimitReached": false,
       "aggType": "",
       "arguments": {},
       "columnCustomDisplayInfos": {},
       "data": [
        [
         "Celular"
        ],
        [
         "CNPJ"
        ],
        [
         "CPF"
        ],
        [
         "Aleatória"
        ],
        [
         "e-mail"
        ]
       ],
       "datasetInfos": [],
       "dbfsResultPath": null,
       "isJsonSchema": true,
       "metadata": {},
       "overflow": false,
       "plotOptions": {
        "customPlotOptions": {},
        "displayType": "table",
        "pivotAggregation": null,
        "pivotColumns": null,
        "xColumns": null,
        "yColumns": null
       },
       "removedWidgets": [],
       "schema": [
        {
         "metadata": "{}",
         "name": "TipoChave",
         "type": "\"string\""
        }
       ],
       "type": "table"
      }
     },
     "output_type": "display_data"
    }
   ],
   "source": [
    "%sql SELECT * FROM gold.dimensao_tipo_chave LIMIT 10;"
   ]
  },
  {
   "cell_type": "markdown",
   "metadata": {
    "application/vnd.databricks.v1+cell": {
     "cellMetadata": {
      "byteLimit": 2048000,
      "rowLimit": 10000
     },
     "inputWidgets": {},
     "nuid": "bdffe892-e3a3-4c1a-996e-06f43d343ad1",
     "showTitle": false,
     "tableResultSettingsMap": {},
     "title": ""
    }
   },
   "source": [
    "###Qual tipo de chave é mais utilizado pelos usuários?\n",
    "Com base no resultado obtido, foi possível identificar que a chave mais utilizada foi a chave aleatória, esta informação é de extrema relevância pois impacta desde a experiência do cliente até a competitividade das instituições financeiras e as políticas regulatórias do Banco Central. Para bancos e fintechs, entender essa preferência permite:\n",
    "\n",
    "•\tOtimizar o cadastro, tornando-o mais ágil e intuitivo, reduzindo abandonos.\n",
    "\n",
    "•\tReforçar a segurança, direcionando esforços para combater fraudes em chaves mais vulneráveis (como e-mail).\n",
    "\n"
   ]
  },
  {
   "cell_type": "code",
   "execution_count": 0,
   "metadata": {
    "application/vnd.databricks.v1+cell": {
     "cellMetadata": {
      "byteLimit": 2048000,
      "implicitDf": true,
      "rowLimit": 10000
     },
     "inputWidgets": {},
     "nuid": "a04cd815-7983-40c8-8c1a-612121c2490e",
     "showTitle": false,
     "tableResultSettingsMap": {},
     "title": ""
    }
   },
   "outputs": [
    {
     "output_type": "display_data",
     "data": {
      "text/html": [
       "<style scoped>\n",
       "  .table-result-container {\n",
       "    max-height: 300px;\n",
       "    overflow: auto;\n",
       "  }\n",
       "  table, th, td {\n",
       "    border: 1px solid black;\n",
       "    border-collapse: collapse;\n",
       "  }\n",
       "  th, td {\n",
       "    padding: 5px;\n",
       "  }\n",
       "  th {\n",
       "    text-align: left;\n",
       "  }\n",
       "</style><div class='table-result-container'><table class='table-result'><thead style='background-color: white'><tr><th>TipoChave</th><th>total_chaves_utilizadas</th></tr></thead><tbody><tr><td>Aleatória</td><td>5.167268687E9</td></tr></tbody></table></div>"
      ]
     },
     "metadata": {
      "application/vnd.databricks.v1+output": {
       "addedWidgets": {},
       "aggData": [],
       "aggError": "",
       "aggOverflow": false,
       "aggSchema": [],
       "aggSeriesLimitReached": false,
       "aggType": "",
       "arguments": {},
       "columnCustomDisplayInfos": {},
       "data": [
        [
         "Aleatória",
         5.167268687E9
        ]
       ],
       "datasetInfos": [],
       "dbfsResultPath": null,
       "isJsonSchema": true,
       "metadata": {},
       "overflow": false,
       "plotOptions": {
        "customPlotOptions": {},
        "displayType": "table",
        "pivotAggregation": null,
        "pivotColumns": null,
        "xColumns": null,
        "yColumns": null
       },
       "removedWidgets": [],
       "schema": [
        {
         "metadata": "{}",
         "name": "TipoChave",
         "type": "\"string\""
        },
        {
         "metadata": "{}",
         "name": "total_chaves_utilizadas",
         "type": "\"double\""
        }
       ],
       "type": "table"
      }
     },
     "output_type": "display_data"
    }
   ],
   "source": [
    "%sql\n",
    "SELECT \n",
    "    TipoChave,\n",
    "    SUM(qtdChaves) AS total_chaves_utilizadas\n",
    "FROM \n",
    "    gold.fatos_chaves_pix\n",
    "GROUP BY \n",
    "    TipoChave\n",
    "ORDER BY \n",
    "    total_chaves_utilizadas DESC\n",
    "LIMIT 1;"
   ]
  },
  {
   "cell_type": "markdown",
   "metadata": {
    "application/vnd.databricks.v1+cell": {
     "cellMetadata": {
      "byteLimit": 2048000,
      "rowLimit": 10000
     },
     "inputWidgets": {},
     "nuid": "7a61e218-c5a3-4853-8216-25c5308d5468",
     "showTitle": false,
     "tableResultSettingsMap": {},
     "title": ""
    }
   },
   "source": [
    "###Qual instituição que possui o maior número de chaves pix ativas?\n",
    "\n",
    "Como resultado foi visto que NU Pagamentos foi a instuiticao que obteve o maior share de mercado, saber qual instituição financeira lidera em chaves Pix ativas não é apenas uma curiosidade competitiva, mas uma informação estratégica para múltiplos agentes do ecossistema financeiro. Como exemplo:\n",
    "\n",
    "- Para as instituições financeiras\n",
    "\n",
    "Benchmarking competitivo: Bancos e fintechs podem comparar sua participação com a líder e ajustar estratégias de atração/retenção de clientes.\n",
    "\n",
    "Oportunidades de parceria: Instituições menores podem buscar alianças com a líder para ampliar seu alcance.\n",
    "\n",
    "- Para os usuários\n",
    "\n",
    "Indicador de confiança: Uma instituição com muitas chaves ativas pode sinalizar maior aceitação no mercado, influenciando escolhas.\n",
    "\n",
    "Melhores serviços: A concorrência para liderar o ranking pode resultar em benefícios como taxas reduzidas ou funcionalidades exclusivas.\n",
    "\n",
    "- Para o ecossistema de pagamentos\n",
    "\n",
    "Atração de investimentos: A líder em chaves Pix se torna um ator central para integrações com e-commerces, aplicativos e outros serviços.\n",
    "\n",
    "Inovação acelerada: A disputa pela liderança estimula o lançamento de novos produtos (ex.: Pix parcelado, Pix internacional).\n"
   ]
  },
  {
   "cell_type": "code",
   "execution_count": 0,
   "metadata": {
    "application/vnd.databricks.v1+cell": {
     "cellMetadata": {
      "byteLimit": 2048000,
      "implicitDf": true,
      "rowLimit": 10000
     },
     "inputWidgets": {},
     "nuid": "edf37a41-75bf-42fc-a020-078411d1d7e0",
     "showTitle": false,
     "tableResultSettingsMap": {},
     "title": ""
    }
   },
   "outputs": [
    {
     "output_type": "display_data",
     "data": {
      "text/html": [
       "<style scoped>\n",
       "  .table-result-container {\n",
       "    max-height: 300px;\n",
       "    overflow: auto;\n",
       "  }\n",
       "  table, th, td {\n",
       "    border: 1px solid black;\n",
       "    border-collapse: collapse;\n",
       "  }\n",
       "  th, td {\n",
       "    padding: 5px;\n",
       "  }\n",
       "  th {\n",
       "    text-align: left;\n",
       "  }\n",
       "</style><div class='table-result-container'><table class='table-result'><thead style='background-color: white'><tr><th>nome_instituicao</th><th>total_chaves_pix_ativas</th></tr></thead><tbody><tr><td>NU PAGAMENTOS - IP</td><td>2.17554295E9</td></tr></tbody></table></div>"
      ]
     },
     "metadata": {
      "application/vnd.databricks.v1+output": {
       "addedWidgets": {},
       "aggData": [],
       "aggError": "",
       "aggOverflow": false,
       "aggSchema": [],
       "aggSeriesLimitReached": false,
       "aggType": "",
       "arguments": {},
       "columnCustomDisplayInfos": {},
       "data": [
        [
         "NU PAGAMENTOS - IP",
         2.17554295E9
        ]
       ],
       "datasetInfos": [],
       "dbfsResultPath": null,
       "isJsonSchema": true,
       "metadata": {},
       "overflow": false,
       "plotOptions": {
        "customPlotOptions": {},
        "displayType": "table",
        "pivotAggregation": null,
        "pivotColumns": null,
        "xColumns": null,
        "yColumns": null
       },
       "removedWidgets": [],
       "schema": [
        {
         "metadata": "{}",
         "name": "nome_instituicao",
         "type": "\"string\""
        },
        {
         "metadata": "{}",
         "name": "total_chaves_pix_ativas",
         "type": "\"double\""
        }
       ],
       "type": "table"
      }
     },
     "output_type": "display_data"
    }
   ],
   "source": [
    "%sql\n",
    "SELECT \n",
    "    di.Nome AS nome_instituicao,\n",
    "    SUM(fc.qtdChaves) AS total_chaves_pix_ativas\n",
    "FROM \n",
    "    gold.fatos_chaves_pix fc\n",
    "JOIN \n",
    "    gold.dimensao_instituicao di\n",
    "ON \n",
    "    fc.ISPB = di.ISPB\n",
    "GROUP BY \n",
    "    di.Nome\n",
    "ORDER BY \n",
    "    total_chaves_pix_ativas DESC\n",
    "LIMIT 1;"
   ]
  },
  {
   "cell_type": "markdown",
   "metadata": {
    "application/vnd.databricks.v1+cell": {
     "cellMetadata": {
      "byteLimit": 2048000,
      "rowLimit": 10000
     },
     "inputWidgets": {},
     "nuid": "13894626-ea70-4a15-92f9-b6e28e3e0303",
     "showTitle": false,
     "tableResultSettingsMap": {},
     "title": ""
    }
   },
   "source": [
    "###Como o número total de chaves Pix ativas tem evoluído mês a mês?\n",
    "A evolução mensal do número de chaves Pix ativas é um termômetro estratégico da digitalização financeira no Brasil. Para o Banco Central, revela a eficácia de políticas de inclusão e a necessidade de ajustes regulatórios. Instituições financeiras usam esses dados para direcionar campanhas de captação, otimizar infraestrutura e identificar concorrentes dominantes. Para a sociedade, números robustos indicam democratização do acesso, mas também exigem campanhas de segurança já que o Brasil superou 400 milhões de chaves em 2023, muitas vinculadas a um mesmo usuário. Se o ritmo mensal acelera, sinaliza inovação; se desacelera, aponta maturidade do mercado, demandando estratégias de fidelização. Em resumo, essa métrica não só mede o sucesso do Pix, mas orienta o futuro dos pagamentos digitais no país."
   ]
  },
  {
   "cell_type": "code",
   "execution_count": 0,
   "metadata": {
    "application/vnd.databricks.v1+cell": {
     "cellMetadata": {
      "byteLimit": 2048000,
      "implicitDf": true,
      "rowLimit": 10000
     },
     "inputWidgets": {},
     "nuid": "24d39c9f-e02b-4fcb-b017-02d2338f6c16",
     "showTitle": false,
     "tableResultSettingsMap": {},
     "title": ""
    }
   },
   "outputs": [
    {
     "output_type": "display_data",
     "data": {
      "text/html": [
       "<style scoped>\n",
       "  .table-result-container {\n",
       "    max-height: 300px;\n",
       "    overflow: auto;\n",
       "  }\n",
       "  table, th, td {\n",
       "    border: 1px solid black;\n",
       "    border-collapse: collapse;\n",
       "  }\n",
       "  th, td {\n",
       "    padding: 5px;\n",
       "  }\n",
       "  th {\n",
       "    text-align: left;\n",
       "  }\n",
       "</style><div class='table-result-container'><table class='table-result'><thead style='background-color: white'><tr><th>ano</th><th>mes</th><th>total_chaves_pix_ativas</th></tr></thead><tbody><tr><td>2025</td><td>2</td><td>8.36096464E8</td></tr><tr><td>2025</td><td>1</td><td>8.28099454E8</td></tr><tr><td>2024</td><td>12</td><td>8.16751696E8</td></tr><tr><td>2024</td><td>11</td><td>8.04946954E8</td></tr><tr><td>2024</td><td>10</td><td>8.05629306E8</td></tr><tr><td>2024</td><td>9</td><td>7.99867417E8</td></tr><tr><td>2024</td><td>8</td><td>7.89063752E8</td></tr><tr><td>2024</td><td>7</td><td>7.78446278E8</td></tr><tr><td>2024</td><td>6</td><td>7.65527393E8</td></tr><tr><td>2024</td><td>5</td><td>7.53568144E8</td></tr><tr><td>2024</td><td>4</td><td>7.41380688E8</td></tr><tr><td>2024</td><td>3</td><td>7.32863264E8</td></tr><tr><td>2024</td><td>2</td><td>7.22672853E8</td></tr><tr><td>2024</td><td>1</td><td>7.11279976E8</td></tr></tbody></table></div>"
      ]
     },
     "metadata": {
      "application/vnd.databricks.v1+output": {
       "addedWidgets": {},
       "aggData": [],
       "aggError": "",
       "aggOverflow": false,
       "aggSchema": [],
       "aggSeriesLimitReached": false,
       "aggType": "",
       "arguments": {},
       "columnCustomDisplayInfos": {},
       "data": [
        [
         2025,
         2,
         8.36096464E8
        ],
        [
         2025,
         1,
         8.28099454E8
        ],
        [
         2024,
         12,
         8.16751696E8
        ],
        [
         2024,
         11,
         8.04946954E8
        ],
        [
         2024,
         10,
         8.05629306E8
        ],
        [
         2024,
         9,
         7.99867417E8
        ],
        [
         2024,
         8,
         7.89063752E8
        ],
        [
         2024,
         7,
         7.78446278E8
        ],
        [
         2024,
         6,
         7.65527393E8
        ],
        [
         2024,
         5,
         7.53568144E8
        ],
        [
         2024,
         4,
         7.41380688E8
        ],
        [
         2024,
         3,
         7.32863264E8
        ],
        [
         2024,
         2,
         7.22672853E8
        ],
        [
         2024,
         1,
         7.11279976E8
        ]
       ],
       "datasetInfos": [],
       "dbfsResultPath": null,
       "isJsonSchema": true,
       "metadata": {},
       "overflow": false,
       "plotOptions": {
        "customPlotOptions": {},
        "displayType": "table",
        "pivotAggregation": null,
        "pivotColumns": null,
        "xColumns": null,
        "yColumns": null
       },
       "removedWidgets": [],
       "schema": [
        {
         "metadata": "{}",
         "name": "ano",
         "type": "\"integer\""
        },
        {
         "metadata": "{}",
         "name": "mes",
         "type": "\"integer\""
        },
        {
         "metadata": "{}",
         "name": "total_chaves_pix_ativas",
         "type": "\"double\""
        }
       ],
       "type": "table"
      }
     },
     "output_type": "display_data"
    }
   ],
   "source": [
    "%sql\n",
    "SELECT \n",
    "    YEAR(fc.Data) AS ano,\n",
    "    MONTH(fc.Data) AS mes,\n",
    "    SUM(fc.qtdChaves) AS total_chaves_pix_ativas\n",
    "FROM \n",
    "    gold.fatos_chaves_pix fc\n",
    "GROUP BY \n",
    "    YEAR(fc.Data), MONTH(fc.Data)\n",
    "ORDER BY \n",
    "    ano DESC, mes DESC;"
   ]
  },
  {
   "cell_type": "markdown",
   "metadata": {
    "application/vnd.databricks.v1+cell": {
     "cellMetadata": {
      "byteLimit": 2048000,
      "rowLimit": 10000
     },
     "inputWidgets": {},
     "nuid": "ea03c4b6-2b04-4b9d-a85a-c3f33a4c9726",
     "showTitle": false,
     "tableResultSettingsMap": {},
     "title": ""
    }
   },
   "source": [
    "###Qual é a proporção de chaves Pix cadastradas por Pessoa Física versus Pessoa Jurídica?\n",
    "Atualmente, PF dominam (95% das chaves), mostrando que o Pix já conquistou usuários comuns, impulsionado por sua praticidade e inclusão financeira. Já a participação de PJ, ainda menor, indica oportunidade de crescimento no mercado, especialmente com funcionalidades como Pix Cobrança."
   ]
  },
  {
   "cell_type": "code",
   "execution_count": 0,
   "metadata": {
    "application/vnd.databricks.v1+cell": {
     "cellMetadata": {
      "byteLimit": 2048000,
      "implicitDf": true,
      "rowLimit": 10000
     },
     "inputWidgets": {},
     "nuid": "d7c1b534-7192-4dbc-a0c4-364062f9c288",
     "showTitle": true,
     "tableResultSettingsMap": {},
     "title": "2.\tQual é a proporção de chaves Pix cadastradas por Pessoa Física versus Pessoa Jurídica?"
    }
   },
   "outputs": [
    {
     "output_type": "display_data",
     "data": {
      "text/html": [
       "<style scoped>\n",
       "  .table-result-container {\n",
       "    max-height: 300px;\n",
       "    overflow: auto;\n",
       "  }\n",
       "  table, th, td {\n",
       "    border: 1px solid black;\n",
       "    border-collapse: collapse;\n",
       "  }\n",
       "  th, td {\n",
       "    padding: 5px;\n",
       "  }\n",
       "  th {\n",
       "    text-align: left;\n",
       "  }\n",
       "</style><div class='table-result-container'><table class='table-result'><thead style='background-color: white'><tr><th>NaturezaUsuario</th><th>total_chaves</th><th>proporcao_percentual</th></tr></thead><tbody><tr><td>PF</td><td>1.0357059209E10</td><td>95.13939906319169</td></tr><tr><td>PJ</td><td>5.2913443E8</td><td>4.860600936808304</td></tr></tbody></table></div>"
      ]
     },
     "metadata": {
      "application/vnd.databricks.v1+output": {
       "addedWidgets": {},
       "aggData": [],
       "aggError": "",
       "aggOverflow": false,
       "aggSchema": [],
       "aggSeriesLimitReached": false,
       "aggType": "",
       "arguments": {},
       "columnCustomDisplayInfos": {},
       "data": [
        [
         "PF",
         1.0357059209E10,
         95.13939906319169
        ],
        [
         "PJ",
         5.2913443E8,
         4.860600936808304
        ]
       ],
       "datasetInfos": [],
       "dbfsResultPath": null,
       "isJsonSchema": true,
       "metadata": {},
       "overflow": false,
       "plotOptions": {
        "customPlotOptions": {},
        "displayType": "table",
        "pivotAggregation": null,
        "pivotColumns": null,
        "xColumns": null,
        "yColumns": null
       },
       "removedWidgets": [],
       "schema": [
        {
         "metadata": "{}",
         "name": "NaturezaUsuario",
         "type": "\"string\""
        },
        {
         "metadata": "{}",
         "name": "total_chaves",
         "type": "\"double\""
        },
        {
         "metadata": "{}",
         "name": "proporcao_percentual",
         "type": "\"double\""
        }
       ],
       "type": "table"
      }
     },
     "output_type": "display_data"
    }
   ],
   "source": [
    "%sql\n",
    "SELECT \n",
    "    NaturezaUsuario, \n",
    "    SUM(qtdChaves) AS total_chaves,\n",
    "    (SUM(qtdChaves) * 100.0 / (SELECT SUM(qtdChaves) FROM gold.fatos_chaves_pix)) AS proporcao_percentual\n",
    "FROM \n",
    "    gold.fatos_chaves_pix\n",
    "GROUP BY \n",
    "    NaturezaUsuario;"
   ]
  },
  {
   "cell_type": "markdown",
   "metadata": {
    "application/vnd.databricks.v1+cell": {
     "cellMetadata": {
      "byteLimit": 2048000,
      "rowLimit": 10000
     },
     "inputWidgets": {},
     "nuid": "2daffde1-6797-4f94-a40b-c605d3a16ae8",
     "showTitle": false,
     "tableResultSettingsMap": {},
     "title": ""
    }
   },
   "source": [
    "###Solução do problema:\n",
    "Com base nas respostas obtidas para resolver o problema apresentado, foi possível identificar que o Pix se consolidou como um dos principais meios de pagamento instantâneo no Brasil. Atualmente, a grande maioria das chaves ativas está vinculada a pessoas físicas 95%, enquanto apenas 5% estão associadas a pessoas jurídicas. Com mais de 400 milhões de chaves ativas, o crescimento acelerado do sistema exige a adoção de estratégias para evitar sua saturação, como a otimização das chaves existentes e a expansão das funcionalidades do Pix, incorporando novos métodos de pagamento.\n",
    "\n",
    "O Nubank se destaca como líder em número de chaves registradas, resultado de sua abordagem digital simplificada e de um sólido market share de clientes. Esse cenário pressiona outras instituições financeiras a aprimorarem a experiência do usuário, oferecendo benefícios competitivos e desenvolvendo estratégias eficazes para aumentar suas bases de clientes. \n",
    "\n",
    "Para garantir a expansão do Pix, especialmente entre as pessoas jurídicas, algumas ações se mostram essenciais. A educação financeira e a integração do Pix com sistemas empresariais, como ERPs e plataformas de e-commerce, são fundamentais para a adesão de empresas. Além disso, é importante investir em inovações regulatórias, como incentivos fiscais e novas modalidades de pagamento. Outro ponto crucial é o reforço da segurança, com a migração para chaves aleatórias e o combate contínuo a fraudes.\n",
    "\n",
    "Com a implementação dessas medidas, o Pix não apenas manterá seu crescimento, mas se tornará ainda mais relevante no ecossistema de pagamentos digitais, atendendo de forma eficiente tanto os usuários finais quanto as empresas."
   ]
  },
  {
   "cell_type": "markdown",
   "metadata": {
    "application/vnd.databricks.v1+cell": {
     "cellMetadata": {
      "byteLimit": 2048000,
      "rowLimit": 10000
     },
     "inputWidgets": {},
     "nuid": "2a7edfd0-35f0-4e2a-8c9b-40ee7651319a",
     "showTitle": false,
     "tableResultSettingsMap": {},
     "title": ""
    }
   },
   "source": [
    "###Autoavaliação:\n",
    "O desenvolvimento deste projeto de engenharia de dados foi um grande desafio para mim, especialmente porque não possuo experiência prévia com os temas abordados nem com as ferramentas utilizadas. No entanto, acredito que consegui atingir os objetivos propostos e concluir o projeto com êxito, abordando de forma adequada todas as etapas solicitadas e implementando um pipeline de dados completo, utilizando uma tecnologia em nuvem. \n",
    "\n",
    "Fiquei extremamente satisfeito com os resultados obtidos, pois as respostas geradas proporcionaram insights valiosos para a tomada de decisões, o que validou o trabalho realizado. Durante o processo, elenquei algumas perguntas que considerei essenciais para compreender melhor o tema, levando em conta tanto o tempo disponível para a conclusão do projeto quanto sua complexidade e extensão.\n",
    "\n",
    "Concluo minha autoavaliação com a satisfação de ter adquirido novos conhecimentos e me sinto pronto para enfrentar novos desafios e projetos, com uma compreensão mais aprofundada e experiência prática em áreas que antes eram desconhecidas para mim."
   ]
  }
 ],
 "metadata": {
  "application/vnd.databricks.v1+notebook": {
   "computePreferences": null,
   "dashboards": [],
   "environmentMetadata": {
    "base_environment": "",
    "environment_version": "1"
   },
   "inputWidgetPreferences": null,
   "language": "python",
   "notebookMetadata": {
    "mostRecentlyExecutedCommandWithImplicitDF": {
     "commandId": 2746620073133920,
     "dataframes": [
      "_sqldf"
     ]
    },
    "pythonIndentUnit": 4
   },
   "notebookName": "Mvp Engenharia de Dados",
   "widgets": {}
  }
 },
 "nbformat": 4,
 "nbformat_minor": 0
}